{
  "cells": [
    {
      "cell_type": "code",
      "execution_count": null,
      "metadata": {
        "id": "NNqz2AyIouyx"
      },
      "outputs": [],
      "source": [
        "from tensorflow.keras.datasets import reuters\n",
        "import numpy as np"
      ]
    },
    {
      "cell_type": "code",
      "execution_count": null,
      "metadata": {
        "id": "XAxWROQfpF9u"
      },
      "outputs": [],
      "source": [
        "(X_train, y_train), (X_test, y_test) = reuters.load_data(num_words=1000, test_split=0.2)"
      ]
    },
    {
      "cell_type": "code",
      "execution_count": null,
      "metadata": {
        "id": "pbA2Brw2pTBq"
      },
      "outputs": [],
      "source": [
        "category=np.max(y_train) + 1"
      ]
    },
    {
      "cell_type": "code",
      "execution_count": null,
      "metadata": {
        "id": "19l7uyeDqR9p"
      },
      "outputs": [],
      "source": [
        "from tensorflow.keras.preprocessing import sequence\n",
        "\n",
        "X_train=sequence.pad_sequences(X_train, maxlen=100)\n",
        "X_test=sequence.pad_sequences(X_test, maxlen=100)"
      ]
    },
    {
      "cell_type": "code",
      "execution_count": null,
      "metadata": {
        "id": "pLZ9_zzoqkr1"
      },
      "outputs": [],
      "source": [
        "X_train[0]"
      ]
    },
    {
      "cell_type": "code",
      "execution_count": null,
      "metadata": {
        "id": "TL5EYt7oqo10"
      },
      "outputs": [],
      "source": [
        "from tensorflow.keras.utils import to_categorical"
      ]
    },
    {
      "cell_type": "code",
      "execution_count": null,
      "metadata": {
        "id": "J-tbVS0KrC54"
      },
      "outputs": [],
      "source": [
        "y_train"
      ]
    },
    {
      "cell_type": "code",
      "execution_count": null,
      "metadata": {
        "id": "EAxdkUsWq8Jn"
      },
      "outputs": [],
      "source": [
        "y_train=to_categorical(y_train)\n",
        "y_test=to_categorical(y_test)"
      ]
    },
    {
      "cell_type": "code",
      "execution_count": null,
      "metadata": {
        "id": "8YNpZ4cgrE86"
      },
      "outputs": [],
      "source": [
        "from tensorflow.keras.models import Sequential, Model\n",
        "from tensorflow.keras.layers import Dense, Embedding, LSTM, SimpleRNN, Attention, GlobalAveragePooling1D, Input\n",
        "from tensorflow.keras.callbacks import EarlyStopping"
      ]
    },
    {
      "cell_type": "code",
      "execution_count": null,
      "metadata": {
        "id": "bAxIAj0urhyf"
      },
      "outputs": [],
      "source": [
        "model= Sequential()\n",
        "model.add(Embedding(1000,100))\n",
        "model.add(SimpleRNN(100))\n",
        "model.add(Dense(category, activation='softmax'))"
      ]
    },
    {
      "cell_type": "code",
      "execution_count": null,
      "metadata": {
        "id": "cNq0YOO8UK43"
      },
      "outputs": [],
      "source": [
        "inputs = Input(shape=(100,))\n",
        "x = Embedding(input_dim=1000, output_dim=100)(inputs)\n",
        "x = SimpleRNN(100)(x)\n",
        "outputs = Dense(category, activation='softmax')(x)\n",
        "\n",
        "model = Model(inputs=inputs, outputs=outputs)"
      ]
    },
    {
      "cell_type": "code",
      "execution_count": null,
      "metadata": {
        "id": "HQd0rhTptQME"
      },
      "outputs": [],
      "source": [
        "model= Sequential()\n",
        "model.add(Embedding(1000,100))\n",
        "model.add(LSTM(100))\n",
        "model.add(Dense(category, activation='softmax'))"
      ]
    },
    {
      "cell_type": "code",
      "execution_count": null,
      "metadata": {
        "id": "3eDVyTx0vW_C"
      },
      "outputs": [],
      "source": [
        "inputs = Input(shape=(100,))\n",
        "x = Embedding(1000, 100)(inputs)\n",
        "x = LSTM(100, return_sequences=True)(x)\n",
        "x = Attention()([x, x])\n",
        "x = GlobalAveragePooling1D()(x)\n",
        "outputs = Dense(category, activation='softmax')(x)\n",
        "\n",
        "model = Model(inputs, outputs)"
      ]
    },
    {
      "cell_type": "code",
      "execution_count": null,
      "metadata": {
        "id": "Ptr7MdVdsMXE"
      },
      "outputs": [],
      "source": [
        "model.compile(loss='categorical_crossentropy', optimizer='adam', metrics=['accuracy'])\n",
        "early_stopping_callback=EarlyStopping(monitor='val_loss', patience=5)"
      ]
    },
    {
      "cell_type": "code",
      "execution_count": null,
      "metadata": {
        "id": "JCTv7wMqsiRl"
      },
      "outputs": [],
      "source": [
        "model.fit(X_train,y_train, batch_size=20, epochs=200, validation_split=0.2, callbacks=[early_stopping_callback])"
      ]
    },
    {
      "cell_type": "code",
      "execution_count": null,
      "metadata": {
        "id": "acCpDDyusxup"
      },
      "outputs": [],
      "source": [
        "# simplernn 결과\n",
        "model.evaluate(X_test, y_test)[1]"
      ]
    },
    {
      "cell_type": "code",
      "execution_count": null,
      "metadata": {
        "id": "Swi-frlCtEiQ"
      },
      "outputs": [],
      "source": [
        "# LSTM 결과\n",
        "model.evaluate(X_test, y_test)[1]"
      ]
    },
    {
      "cell_type": "code",
      "execution_count": null,
      "metadata": {
        "id": "pw0bsZL8T18X"
      },
      "outputs": [],
      "source": [
        "# LSTM 결과\n",
        "model.evaluate(X_test, y_test)[1]"
      ]
    }
  ],
  "metadata": {
    "accelerator": "GPU",
    "colab": {
      "gpuType": "T4",
      "private_outputs": true,
      "provenance": []
    },
    "kernelspec": {
      "display_name": "Python 3",
      "name": "python3"
    },
    "language_info": {
      "name": "python"
    }
  },
  "nbformat": 4,
  "nbformat_minor": 0
}
