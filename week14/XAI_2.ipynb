{
 "cells": [
  {
   "cell_type": "code",
   "execution_count": null,
   "metadata": {
    "id": "2lln71ZAuEcA"
   },
   "outputs": [],
   "source": [
    "import shap, numpy as np, pandas as pd, tensorflow as tf\n",
    "from sklearn.model_selection import train_test_split\n",
    "from sklearn.preprocessing import StandardScaler\n",
    "tf.random.set_seed(42)\n",
    "# 피마 인디언 데이터셋 데이터를 외부에서 불러옵니다.\n",
    "URL  = \"https://raw.githubusercontent.com/jbrownlee/Datasets/master/pima-indians-diabetes.csv\"\n",
    "COLS = [\"Pregnancies\",\"Glucose\",\"BloodPressure\",\"SkinThickness\",\n",
    "        \"Insulin\",\"BMI\",\"DiabetesPedigreeFunction\",\"Age\",\"Outcome\"]\n",
    "\n",
    "df = pd.read_csv(URL, header=None, names=COLS)"
   ]
  },
  {
   "cell_type": "code",
   "execution_count": null,
   "metadata": {
    "id": "XZr2yrW-uJ9Z"
   },
   "outputs": [],
   "source": [
    "# 데이터셋의 전처리를 진행합니다.\n",
    "X, y = df[COLS[:-1]].values, df[\"Outcome\"].values\n",
    "X_train, X_test, y_train, y_test = train_test_split(X, y, test_size=0.2,\n",
    "                                          stratify=y, random_state=42)\n",
    "\n",
    "scaler = StandardScaler()\n",
    "X_train = scaler.fit_transform(X_train)\n",
    "X_test = scaler.transform(X_test)\n"
   ]
  },
  {
   "cell_type": "code",
   "execution_count": null,
   "metadata": {
    "id": "qvWzxFNsvXAU"
   },
   "outputs": [],
   "source": [
    "# 간단한 딥러닝 모델을 생성하고 학습합니다.\n",
    "model = tf.keras.Sequential([\n",
    "    tf.keras.Input(shape=(X_train.shape[1],)),\n",
    "    tf.keras.layers.Dense(32, activation='relu'),\n",
    "    tf.keras.layers.Dense(16, activation='relu'),\n",
    "    tf.keras.layers.Dense(1,  activation='sigmoid')\n",
    "])\n",
    "model.compile('adam', 'binary_crossentropy', metrics=['accuracy'])\n",
    "model.fit(X_train, y_train, epochs=30, batch_size=32, verbose=0)\n",
    "print(\"Test accuracy:\", model.evaluate(X_test, y_test, verbose=0)[1])"
   ]
  },
  {
   "cell_type": "code",
   "execution_count": null,
   "metadata": {
    "id": "FfXjjpgzwOjx"
   },
   "outputs": [],
   "source": [
    "# SHAP의 GradientExplainer 를 사용합니다. (GPU 전용)\n",
    "background  = X_train[np.random.choice(X_train.shape[0], 100, replace=False)]\n",
    "explainer   = shap.GradientExplainer(model, background)\n",
    "\n",
    "raw_shap    = explainer.shap_values(X_test)\n",
    "shap_vals   = raw_shap.squeeze(-1)\n",
    "\n",
    "base_value  = model.predict(background, verbose=0).mean()"
   ]
  },
  {
   "cell_type": "code",
   "execution_count": null,
   "metadata": {
    "id": "MuZi9O_T7fJO"
   },
   "outputs": [],
   "source": [
    "# 요약플롯을 출력합니다.\n",
    "shap.summary_plot(shap_vals, X_test, feature_names=COLS[:-1])"
   ]
  },
  {
   "cell_type": "code",
   "execution_count": null,
   "metadata": {
    "id": "muILyloS7fLu"
   },
   "outputs": [],
   "source": [
    "# 모든 특성의 플롯을 출력합니다.\n",
    "sample_idx = 0\n",
    "exp = shap.Explanation(\n",
    "    values       = shap_vals[sample_idx],   # 1-D 벡터\n",
    "    base_values  = base_value,\n",
    "    data         = X_test[sample_idx],\n",
    "    feature_names= COLS[:-1]\n",
    ")\n",
    "shap.plots.waterfall(exp, max_display=20)"
   ]
  }
 ],
 "metadata": {
  "accelerator": "GPU",
  "colab": {
   "gpuType": "T4",
   "private_outputs": true,
   "provenance": []
  },
  "kernelspec": {
   "display_name": "Python 3",
   "name": "python3"
  },
  "language_info": {
   "name": "python"
  }
 },
 "nbformat": 4,
 "nbformat_minor": 0
}
