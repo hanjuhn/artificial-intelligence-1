{
 "cells": [
  {
   "cell_type": "markdown",
   "metadata": {
    "id": "GlJw8fWv-uft"
   },
   "source": [
    "### XOR 문제 해결"
   ]
  },
  {
   "cell_type": "code",
   "execution_count": null,
   "metadata": {
    "id": "W0LUCLANLj7Q"
   },
   "outputs": [],
   "source": [
    "import numpy as np"
   ]
  },
  {
   "cell_type": "code",
   "execution_count": null,
   "metadata": {
    "id": "6yuzwkgjLz-w"
   },
   "outputs": [],
   "source": [
    "w11 = np.array([-2, -2]) # 첫 번째 은닉 노드의 가중치\n",
    "w12 = np.array([2, 2]) # 두 번째 은닉 노드의 가중치\n",
    "w2 = np.array([1, 1]) # 출력층 노드의 가중치\n",
    "b1 = 3 # 은닉 노드 1의 편향\n",
    "b2 = -1 # 은닉 노드 2의 편향\n",
    "b3 = -1 # 출력층의 편향"
   ]
  },
  {
   "cell_type": "code",
   "execution_count": null,
   "metadata": {
    "id": "PXZmAD9mL4V9"
   },
   "outputs": [],
   "source": [
    "# np.sum(w * x): 각 입력값과 가중치를 곱한 후 더함 + b: 편향을 더함\n",
    "# if y <= 0: 계단 함수(step function) 적용 -> 0 이하면 출력 0, 0 초과면 출력 1\n",
    "\n",
    "def MLP(x,w,b):\n",
    "  y = np.sum(w*x)+b\n",
    "  if y <= 0:\n",
    "    return 0\n",
    "  else:\n",
    "    return 1"
   ]
  },
  {
   "cell_type": "markdown",
   "metadata": {
    "id": "K9mMvvZg1Mop"
   },
   "source": [
    "XOR 게이트 구현 -> NAND 게이트와 OR 게이트를 먼저 계산, 그 결과를 다시 AND 게이트에 넣음"
   ]
  },
  {
   "cell_type": "markdown",
   "metadata": {
    "id": "BV54du1W3jrY"
   },
   "source": [
    "입력은 x1, x2\n",
    "<br>\n",
    "NAND 게이트 <- 가중치: w11, 편향: b1\n",
    "<br>\n",
    "OR 게이트 <- 가중치: w12, 편향 b2\n",
    "<br>\n",
    "NAND 결과와 OR 결과를 입력으로\n",
    "<br>\n",
    "AND 게이트 <- 가중치 w2, 편향 b3\n",
    "<br>\n",
    "결과 (XOR)"
   ]
  },
  {
   "cell_type": "code",
   "execution_count": null,
   "metadata": {
    "id": "YBuVzNtLMaXu"
   },
   "outputs": [],
   "source": [
    "# NAND 게이트\n",
    "def NAND(x1,x2):\n",
    "  return MLP(np.array([x1,x2]),w11,b1)\n",
    "\n",
    "# OR 게이트\n",
    "def OR(x1,x2):\n",
    "  return MLP(np.array([x1,x2]),w12,b2)\n",
    "\n",
    "# AND 게이트\n",
    "def AND(x1,x2):\n",
    "  return MLP(np.array([x1,x2]),w2,b3)\n",
    "\n",
    "# XOR\n",
    "def XOR(x1,x2):\n",
    "  return AND(NAND(x1,x2),OR(x1,x2))"
   ]
  },
  {
   "cell_type": "code",
   "execution_count": null,
   "metadata": {
    "colab": {
     "base_uri": "https://localhost:8080/"
    },
    "executionInfo": {
     "elapsed": 12,
     "status": "ok",
     "timestamp": 1744095709165,
     "user": {
      "displayName": "배한준",
      "userId": "17989506250295873962"
     },
     "user_tz": -540
    },
    "id": "k1zziEGXMfRV",
    "outputId": "656ed49b-62e7-414c-98c2-9aedba0eb4a1"
   },
   "outputs": [
    {
     "name": "stdout",
     "output_type": "stream",
     "text": [
      "입력 값: (0, 0) 출력 값: 0\n",
      "입력 값: (0, 1) 출력 값: 1\n",
      "입력 값: (1, 0) 출력 값: 1\n",
      "입력 값: (1, 1) 출력 값: 0\n"
     ]
    }
   ],
   "source": [
    "# XOR 연산을 수행하고 결과를 출력\n",
    "# XOR은 두 값이 다를 때 1 / 같을 때 0을 반환\n",
    "for x in [(0,0),(0,1),(1,0),(1,1)]:\n",
    "  y = XOR(x[0],x[1])\n",
    "  print(\"입력 값: \"+str(x)+\" 출력 값: \"+str(y))"
   ]
  }
 ],
 "metadata": {
  "colab": {
   "authorship_tag": "ABX9TyPQbhchDMzDou2DVeW3Pwag",
   "provenance": []
  },
  "kernelspec": {
   "display_name": "Python 3",
   "name": "python3"
  },
  "language_info": {
   "name": "python"
  }
 },
 "nbformat": 4,
 "nbformat_minor": 0
}
